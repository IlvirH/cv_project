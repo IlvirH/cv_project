{
  "metadata": {
    "colab": {
      "provenance": [],
      "gpuType": "T4"
    },
    "kernelspec": {
      "name": "python3",
      "display_name": "Python 3"
    },
    "language_info": {
      "name": "python"
    },
    "accelerator": "GPU"
  },
  "nbformat_minor": 0,
  "nbformat": 4,
  "cells": [
    {
      "cell_type": "code",
      "source": [
        "!pip install -q git+https://github.com/tensorflow/docs"
      ],
      "metadata": {
        "colab": {
          "base_uri": "https://localhost:8080/"
        },
        "id": "fgm-VSylc933",
        "outputId": "ceccd5f9-758c-41b3-ad1e-c2aa884daf19",
        "execution": {
          "iopub.status.busy": "2023-06-01T16:33:51.866388Z",
          "iopub.execute_input": "2023-06-01T16:33:51.866760Z",
          "iopub.status.idle": "2023-06-01T16:34:09.126874Z",
          "shell.execute_reply.started": "2023-06-01T16:33:51.866730Z",
          "shell.execute_reply": "2023-06-01T16:34:09.125732Z"
        },
        "trusted": true
      },
      "execution_count": 1,
      "outputs": [
        {
          "output_type": "stream",
          "name": "stdout",
          "text": [
            "  Preparing metadata (setup.py) ... \u001b[?25l\u001b[?25hdone\n"
          ]
        }
      ]
    },
    {
      "cell_type": "code",
      "source": [
        "from tensorflow import keras\n",
        "from tensorflow.keras import layers\n",
        "from tensorflow_docs.vis import embed\n",
        "import matplotlib.pyplot as plt\n",
        "import tensorflow as tf\n",
        "import numpy as np\n",
        "import imageio"
      ],
      "metadata": {
        "id": "cCocqZwMdJL1",
        "execution": {
          "iopub.status.busy": "2023-06-01T16:34:09.129718Z",
          "iopub.execute_input": "2023-06-01T16:34:09.130809Z",
          "iopub.status.idle": "2023-06-01T16:34:09.231901Z",
          "shell.execute_reply.started": "2023-06-01T16:34:09.130769Z",
          "shell.execute_reply": "2023-06-01T16:34:09.231003Z"
        },
        "trusted": true
      },
      "execution_count": 2,
      "outputs": []
    },
    {
      "cell_type": "code",
      "source": [
        "batch_size = 64\n",
        "num_channels = 1\n",
        "num_classes = 10\n",
        "image_size = 28\n",
        "latent_dim = 128"
      ],
      "metadata": {
        "id": "d9Gz3xJHdJQd",
        "execution": {
          "iopub.status.busy": "2023-06-01T16:34:09.233122Z",
          "iopub.execute_input": "2023-06-01T16:34:09.233448Z",
          "iopub.status.idle": "2023-06-01T16:34:09.239473Z",
          "shell.execute_reply.started": "2023-06-01T16:34:09.233416Z",
          "shell.execute_reply": "2023-06-01T16:34:09.238467Z"
        },
        "trusted": true
      },
      "execution_count": 3,
      "outputs": []
    },
    {
      "cell_type": "code",
      "source": [
        "(x_train, y_train), (x_test, y_test) = keras.datasets.mnist.load_data()\n",
        "all_digits = np.concatenate([x_train, x_test])\n",
        "all_labels = np.concatenate([y_train, y_test])\n",
        "\n",
        "# Scale the pixel values to [0, 1] range, add a channel dimension to\n",
        "# the images, and one-hot encode the labels.\n",
        "all_digits = all_digits.astype(\"float32\") / 255.0\n",
        "all_digits = np.reshape(all_digits, (-1, 28, 28, 1))\n",
        "all_labels = keras.utils.to_categorical(all_labels, 10)\n",
        "\n",
        "# Create tf.data.Dataset.\n",
        "dataset = tf.data.Dataset.from_tensor_slices((all_digits, all_labels))\n",
        "dataset = dataset.shuffle(buffer_size=1024).batch(batch_size)\n",
        "\n",
        "print(f\"Shape of training images: {all_digits.shape}\")\n",
        "print(f\"Shape of training labels: {all_labels.shape}\")"
      ],
      "metadata": {
        "colab": {
          "base_uri": "https://localhost:8080/"
        },
        "id": "Pw4WkE73dJVX",
        "outputId": "3b36518a-15da-4def-ddc4-63e19c42a6be",
        "execution": {
          "iopub.status.busy": "2023-06-01T16:34:09.240722Z",
          "iopub.execute_input": "2023-06-01T16:34:09.241525Z",
          "iopub.status.idle": "2023-06-01T16:34:10.010299Z",
          "shell.execute_reply.started": "2023-06-01T16:34:09.241494Z",
          "shell.execute_reply": "2023-06-01T16:34:10.009237Z"
        },
        "trusted": true
      },
      "execution_count": 4,
      "outputs": [
        {
          "output_type": "stream",
          "name": "stdout",
          "text": [
            "Shape of training images: (70000, 28, 28, 1)\n",
            "Shape of training labels: (70000, 10)\n"
          ]
        }
      ]
    },
    {
      "cell_type": "code",
      "source": [
        "generator_in_channels = latent_dim + num_classes\n",
        "discriminator_in_channels = num_channels + num_classes\n",
        "print(generator_in_channels, discriminator_in_channels)"
      ],
      "metadata": {
        "colab": {
          "base_uri": "https://localhost:8080/"
        },
        "id": "HhQGclmMdJYB",
        "outputId": "5607da99-6a0c-4ff9-9674-2a60acdbb55d",
        "execution": {
          "iopub.status.busy": "2023-06-01T16:34:10.013008Z",
          "iopub.execute_input": "2023-06-01T16:34:10.013795Z",
          "iopub.status.idle": "2023-06-01T16:34:10.018776Z",
          "shell.execute_reply.started": "2023-06-01T16:34:10.013768Z",
          "shell.execute_reply": "2023-06-01T16:34:10.017615Z"
        },
        "trusted": true
      },
      "execution_count": 5,
      "outputs": [
        {
          "output_type": "stream",
          "name": "stdout",
          "text": [
            "138 11\n"
          ]
        }
      ]
    },
    {
      "cell_type": "code",
      "source": [
        "discriminator = keras.Sequential(\n",
        "    [\n",
        "        keras.layers.InputLayer((28, 28, discriminator_in_channels)),\n",
        "        layers.Conv2D(64, (3, 3), strides=(2, 2), padding=\"same\"),\n",
        "        layers.LeakyReLU(alpha=0.2),\n",
        "        layers.Conv2D(128, (3, 3), strides=(2, 2), padding=\"same\"),\n",
        "        layers.LeakyReLU(alpha=0.2),\n",
        "        layers.GlobalMaxPooling2D(),\n",
        "        layers.Dense(1),\n",
        "    ],\n",
        "    name=\"discriminator\",\n",
        ")\n",
        "\n",
        "# Create the generator.\n",
        "generator = keras.Sequential(\n",
        "    [\n",
        "        keras.layers.InputLayer((generator_in_channels,)),\n",
        "        # We want to generate 128 + num_classes coefficients to reshape into a\n",
        "        # 7x7x(128 + num_classes) map.\n",
        "        layers.Dense(7 * 7 * generator_in_channels),\n",
        "        layers.LeakyReLU(alpha=0.2),\n",
        "        layers.Reshape((7, 7, generator_in_channels)),\n",
        "        layers.Conv2DTranspose(128, (4, 4), strides=(2, 2), padding=\"same\"),\n",
        "        layers.LeakyReLU(alpha=0.2),\n",
        "        layers.Conv2DTranspose(128, (4, 4), strides=(2, 2), padding=\"same\"),\n",
        "        layers.LeakyReLU(alpha=0.2),\n",
        "        layers.Conv2D(1, (7, 7), padding=\"same\", activation=\"sigmoid\"),\n",
        "    ],\n",
        "    name=\"generator\",\n",
        ")"
      ],
      "metadata": {
        "id": "QDWPAryAdJao",
        "execution": {
          "iopub.status.busy": "2023-06-01T16:34:10.020161Z",
          "iopub.execute_input": "2023-06-01T16:34:10.021092Z",
          "iopub.status.idle": "2023-06-01T16:34:10.170623Z",
          "shell.execute_reply.started": "2023-06-01T16:34:10.021059Z",
          "shell.execute_reply": "2023-06-01T16:34:10.169749Z"
        },
        "trusted": true
      },
      "execution_count": 6,
      "outputs": []
    },
    {
      "cell_type": "code",
      "source": [],
      "metadata": {
        "id": "ECyNTti4U3Bd"
      },
      "execution_count": 6,
      "outputs": []
    },
    {
      "cell_type": "code",
      "source": [
        "class ConditionalGAN(keras.Model):\n",
        "    def __init__(self, discriminator, generator, latent_dim):\n",
        "        super().__init__()\n",
        "        self.discriminator = discriminator\n",
        "        self.generator = generator\n",
        "        self.latent_dim = latent_dim\n",
        "        self.gen_loss_tracker = keras.metrics.Mean(name=\"generator_loss\")\n",
        "        self.disc_loss_tracker = keras.metrics.Mean(name=\"discriminator_loss\")\n",
        "\n",
        "    @property\n",
        "    def metrics(self):\n",
        "        return [self.gen_loss_tracker, self.disc_loss_tracker]\n",
        "\n",
        "    def compile(self, d_optimizer, g_optimizer, loss_fn):\n",
        "        super().compile()\n",
        "        self.d_optimizer = d_optimizer\n",
        "        self.g_optimizer = g_optimizer\n",
        "        self.loss_fn = loss_fn\n",
        "\n",
        "    def train_step(self, data):\n",
        "        # Unpack the data.\n",
        "        real_images, one_hot_labels = data\n",
        "\n",
        "        # Add dummy dimensions to the labels so that they can be concatenated with\n",
        "        # the images. This is for the discriminator.\n",
        "        image_one_hot_labels = one_hot_labels[:, :, None, None]\n",
        "        image_one_hot_labels = tf.repeat(\n",
        "            image_one_hot_labels, repeats=[image_size * image_size]\n",
        "        )\n",
        "        image_one_hot_labels = tf.reshape(\n",
        "            image_one_hot_labels, (-1, image_size, image_size, num_classes)\n",
        "        )\n",
        "\n",
        "        # Sample random points in the latent space and concatenate the labels.\n",
        "        # This is for the generator.\n",
        "        batch_size = tf.shape(real_images)[0]\n",
        "        random_latent_vectors = tf.random.normal(shape=(batch_size, self.latent_dim))\n",
        "        random_vector_labels = tf.concat(\n",
        "            [random_latent_vectors, one_hot_labels], axis=1\n",
        "        )\n",
        "\n",
        "        # Decode the noise (guided by labels) to fake images.\n",
        "        generated_images = self.generator(random_vector_labels)\n",
        "\n",
        "        # Combine them with real images. Note that we are concatenating the labels\n",
        "        # with these images here.\n",
        "        fake_image_and_labels = tf.concat([generated_images, image_one_hot_labels], -1)\n",
        "        real_image_and_labels = tf.concat([real_images, image_one_hot_labels], -1)\n",
        "        combined_images = tf.concat(\n",
        "            [fake_image_and_labels, real_image_and_labels], axis=0\n",
        "        )\n",
        "\n",
        "        # Assemble labels discriminating real from fake images.\n",
        "        labels = tf.concat(\n",
        "            [tf.ones((batch_size, 1)), tf.zeros((batch_size, 1))], axis=0\n",
        "        )\n",
        "\n",
        "        # Train the discriminator.\n",
        "        with tf.GradientTape() as tape:\n",
        "            predictions = self.discriminator(combined_images)\n",
        "            d_loss = self.loss_fn(labels, predictions)\n",
        "        grads = tape.gradient(d_loss, self.discriminator.trainable_weights)\n",
        "        self.d_optimizer.apply_gradients(\n",
        "            zip(grads, self.discriminator.trainable_weights)\n",
        "        )\n",
        "\n",
        "        # Sample random points in the latent space.\n",
        "        random_latent_vectors = tf.random.normal(shape=(batch_size, self.latent_dim))\n",
        "        random_vector_labels = tf.concat(\n",
        "            [random_latent_vectors, one_hot_labels], axis=1\n",
        "        )\n",
        "\n",
        "        # Assemble labels that say \"all real images\".\n",
        "        misleading_labels = tf.zeros((batch_size, 1))\n",
        "\n",
        "        # Train the generator (note that we should *not* update the weights\n",
        "        # of the discriminator)!\n",
        "        with tf.GradientTape() as tape:\n",
        "            fake_images = self.generator(random_vector_labels)\n",
        "            fake_image_and_labels = tf.concat([fake_images, image_one_hot_labels], -1)\n",
        "            predictions = self.discriminator(fake_image_and_labels)\n",
        "            g_loss = self.loss_fn(misleading_labels, predictions)\n",
        "        grads = tape.gradient(g_loss, self.generator.trainable_weights)\n",
        "        self.g_optimizer.apply_gradients(zip(grads, self.generator.trainable_weights))\n",
        "\n",
        "        # Monitor loss.\n",
        "        self.gen_loss_tracker.update_state(g_loss)\n",
        "        self.disc_loss_tracker.update_state(d_loss)\n",
        "        return {\n",
        "            \"g_loss\": self.gen_loss_tracker.result(),\n",
        "            \"d_loss\": self.disc_loss_tracker.result(),\n",
        "        }"
      ],
      "metadata": {
        "id": "7uwpEIS8dJd9",
        "execution": {
          "iopub.status.busy": "2023-06-01T16:34:10.172131Z",
          "iopub.execute_input": "2023-06-01T16:34:10.172441Z",
          "iopub.status.idle": "2023-06-01T16:34:10.190150Z",
          "shell.execute_reply.started": "2023-06-01T16:34:10.172411Z",
          "shell.execute_reply": "2023-06-01T16:34:10.189219Z"
        },
        "trusted": true
      },
      "execution_count": 7,
      "outputs": []
    },
    {
      "cell_type": "code",
      "source": [
        "cond_gan = ConditionalGAN(\n",
        "    discriminator=discriminator, generator=generator, latent_dim=latent_dim\n",
        ")\n",
        "cond_gan.compile(\n",
        "    d_optimizer=keras.optimizers.Adam(learning_rate=0.0003),\n",
        "    g_optimizer=keras.optimizers.Adam(learning_rate=0.0003),\n",
        "    loss_fn=keras.losses.BinaryCrossentropy(from_logits=True),\n",
        ")\n",
        "\n",
        "cond_gan.fit(dataset, epochs=30)"
      ],
      "metadata": {
        "colab": {
          "base_uri": "https://localhost:8080/"
        },
        "id": "GULoZg_QdJgM",
        "outputId": "37897ff5-ab26-49d0-e01d-541aaf8ecffc",
        "execution": {
          "iopub.status.busy": "2023-06-01T16:34:10.191590Z",
          "iopub.execute_input": "2023-06-01T16:34:10.192148Z",
          "iopub.status.idle": "2023-06-01T16:45:17.452361Z",
          "shell.execute_reply.started": "2023-06-01T16:34:10.192117Z",
          "shell.execute_reply": "2023-06-01T16:45:17.451364Z"
        },
        "trusted": true
      },
      "execution_count": 18,
      "outputs": [
        {
          "output_type": "stream",
          "name": "stdout",
          "text": [
            "Epoch 1/30\n",
            "1094/1094 [==============================] - 34s 28ms/step - g_loss: 1.3458 - d_loss: 0.5538\n",
            "Epoch 2/30\n",
            "1094/1094 [==============================] - 30s 28ms/step - g_loss: 1.6197 - d_loss: 0.3827\n",
            "Epoch 3/30\n",
            "1094/1094 [==============================] - 30s 28ms/step - g_loss: 2.3868 - d_loss: 0.1925\n",
            "Epoch 4/30\n",
            "1094/1094 [==============================] - 30s 28ms/step - g_loss: 1.9966 - d_loss: 0.3770\n",
            "Epoch 5/30\n",
            "1094/1094 [==============================] - 31s 28ms/step - g_loss: 0.9877 - d_loss: 0.6474\n",
            "Epoch 6/30\n",
            "1094/1094 [==============================] - 31s 28ms/step - g_loss: 0.9067 - d_loss: 0.6656\n",
            "Epoch 7/30\n",
            "1094/1094 [==============================] - 30s 28ms/step - g_loss: 0.8401 - d_loss: 0.6690\n",
            "Epoch 8/30\n",
            "1094/1094 [==============================] - 31s 29ms/step - g_loss: 0.8171 - d_loss: 0.6819\n",
            "Epoch 9/30\n",
            "1094/1094 [==============================] - 32s 29ms/step - g_loss: 0.7851 - d_loss: 0.6801\n",
            "Epoch 10/30\n",
            "1094/1094 [==============================] - 31s 29ms/step - g_loss: 0.7933 - d_loss: 0.6862\n",
            "Epoch 11/30\n",
            "1094/1094 [==============================] - 31s 28ms/step - g_loss: 0.7689 - d_loss: 0.6828\n",
            "Epoch 12/30\n",
            "1094/1094 [==============================] - 31s 28ms/step - g_loss: 0.7889 - d_loss: 0.6695\n",
            "Epoch 13/30\n",
            "1094/1094 [==============================] - 30s 28ms/step - g_loss: 0.7836 - d_loss: 0.6660\n",
            "Epoch 14/30\n",
            "1094/1094 [==============================] - 31s 28ms/step - g_loss: 0.7944 - d_loss: 0.6630\n",
            "Epoch 15/30\n",
            "1094/1094 [==============================] - 31s 28ms/step - g_loss: 0.8076 - d_loss: 0.6608\n",
            "Epoch 16/30\n",
            "1094/1094 [==============================] - 30s 28ms/step - g_loss: 0.8161 - d_loss: 0.6479\n",
            "Epoch 17/30\n",
            "1094/1094 [==============================] - 31s 28ms/step - g_loss: 0.8297 - d_loss: 0.6436\n",
            "Epoch 18/30\n",
            "1094/1094 [==============================] - 32s 29ms/step - g_loss: 0.8487 - d_loss: 0.6287\n",
            "Epoch 19/30\n",
            "1094/1094 [==============================] - 32s 29ms/step - g_loss: 0.8669 - d_loss: 0.6288\n",
            "Epoch 20/30\n",
            "1094/1094 [==============================] - 32s 29ms/step - g_loss: 0.8653 - d_loss: 0.6216\n",
            "Epoch 21/30\n",
            "1094/1094 [==============================] - 31s 28ms/step - g_loss: 0.8639 - d_loss: 0.6250\n",
            "Epoch 22/30\n",
            "1094/1094 [==============================] - 30s 28ms/step - g_loss: 0.8399 - d_loss: 0.6333\n",
            "Epoch 23/30\n",
            "1094/1094 [==============================] - 30s 28ms/step - g_loss: 0.8282 - d_loss: 0.6398\n",
            "Epoch 24/30\n",
            "1094/1094 [==============================] - 30s 28ms/step - g_loss: 0.8154 - d_loss: 0.6455\n",
            "Epoch 25/30\n",
            "1094/1094 [==============================] - 30s 28ms/step - g_loss: 0.8044 - d_loss: 0.6512\n",
            "Epoch 26/30\n",
            "1094/1094 [==============================] - 30s 28ms/step - g_loss: 0.8003 - d_loss: 0.6570\n",
            "Epoch 27/30\n",
            "1094/1094 [==============================] - 30s 28ms/step - g_loss: 0.7983 - d_loss: 0.6574\n",
            "Epoch 28/30\n",
            "1094/1094 [==============================] - 31s 28ms/step - g_loss: 0.7912 - d_loss: 0.6595\n",
            "Epoch 29/30\n",
            "1094/1094 [==============================] - 31s 28ms/step - g_loss: 0.7896 - d_loss: 0.6622\n",
            "Epoch 30/30\n",
            "1094/1094 [==============================] - 31s 29ms/step - g_loss: 0.7834 - d_loss: 0.6646\n"
          ]
        },
        {
          "output_type": "execute_result",
          "data": {
            "text/plain": [
              "<keras.callbacks.History at 0x7f9b699a0b80>"
            ]
          },
          "metadata": {},
          "execution_count": 18
        }
      ]
    },
    {
      "cell_type": "code",
      "source": [
        "cgan_model = cond_gan.generator  # получаем объект модели\n",
        "cgan_model.save('cgan_model.h5')  # сохраняем модель"
      ],
      "metadata": {
        "colab": {
          "base_uri": "https://localhost:8080/"
        },
        "id": "DQo1ugJ5IXoX",
        "outputId": "d141f44f-0999-4a59-f8f5-c3aa1d8ecf2a"
      },
      "execution_count": 19,
      "outputs": [
        {
          "output_type": "stream",
          "name": "stderr",
          "text": [
            "WARNING:tensorflow:Compiled the loaded model, but the compiled metrics have yet to be built. `model.compile_metrics` will be empty until you train or evaluate the model.\n"
          ]
        }
      ]
    },
    {
      "cell_type": "code",
      "source": [
        "trained_gen = cond_gan.generator\n",
        "\n",
        "# Choose the number of intermediate images that would be generated in\n",
        "# between the interpolation + 2 (start and last images).\n",
        "num_interpolation = 9  # @param {type:\"integer\"}\n",
        "\n",
        "# Sample noise for the interpolation.\n",
        "interpolation_noise = tf.random.normal(shape=(1, latent_dim))\n",
        "interpolation_noise = tf.repeat(interpolation_noise, repeats=num_interpolation)\n",
        "interpolation_noise = tf.reshape(interpolation_noise, (num_interpolation, latent_dim))\n",
        "\n",
        "\n",
        "def interpolate_class(first_number, second_number):\n",
        "    # Convert the start and end labels to one-hot encoded vectors.\n",
        "    first_label = keras.utils.to_categorical([first_number], num_classes)\n",
        "    second_label = keras.utils.to_categorical([second_number], num_classes)\n",
        "    first_label = tf.cast(first_label, tf.float32)\n",
        "    second_label = tf.cast(second_label, tf.float32)\n",
        "\n",
        "    # Calculate the interpolation vector between the two labels.\n",
        "    percent_second_label = tf.linspace(0, 1, num_interpolation)[:, None]\n",
        "    percent_second_label = tf.cast(percent_second_label, tf.float32)\n",
        "    interpolation_labels = (\n",
        "        first_label * (1 - percent_second_label) + second_label * percent_second_label\n",
        "    )\n",
        "\n",
        "    # Combine the noise and the labels and run inference with the generator.\n",
        "    noise_and_labels = tf.concat([interpolation_noise, interpolation_labels], 1)\n",
        "    fake = trained_gen.predict(noise_and_labels)\n",
        "    return fake\n",
        "\n",
        "\n",
        "start_class = 4  # @param {type:\"slider\", min:0, max:9, step:1}\n",
        "end_class = 7  # @param {type:\"slider\", min:0, max:9, step:1}\n",
        "\n",
        "fake_images = interpolate_class(start_class, end_class)"
      ],
      "metadata": {
        "colab": {
          "base_uri": "https://localhost:8080/"
        },
        "id": "TY0KPIXBdgfa",
        "outputId": "faf73c48-c779-45ea-9550-962609ad7645",
        "execution": {
          "iopub.status.busy": "2023-06-01T16:45:17.454127Z",
          "iopub.execute_input": "2023-06-01T16:45:17.454751Z",
          "iopub.status.idle": "2023-06-01T16:45:17.974987Z",
          "shell.execute_reply.started": "2023-06-01T16:45:17.454715Z",
          "shell.execute_reply": "2023-06-01T16:45:17.974045Z"
        },
        "trusted": true
      },
      "execution_count": 22,
      "outputs": [
        {
          "output_type": "stream",
          "name": "stdout",
          "text": [
            "1/1 [==============================] - 0s 19ms/step\n"
          ]
        }
      ]
    },
    {
      "cell_type": "code",
      "source": [
        "fake_images *= 255.0\n",
        "converted_images = fake_images.astype(np.uint8)\n",
        "converted_images = tf.image.resize(converted_images, (96, 96)).numpy().astype(np.uint8)\n",
        "imageio.mimsave(\"animation.gif\", converted_images, fps=1)\n",
        "embed.embed_file(\"animation.gif\")"
      ],
      "metadata": {
        "colab": {
          "base_uri": "https://localhost:8080/",
          "height": 117
        },
        "id": "b7CYqz3MdgiD",
        "outputId": "2fca9435-0f53-4009-e2c9-b1355f3a8f23",
        "execution": {
          "iopub.status.busy": "2023-06-01T16:52:25.620837Z",
          "iopub.execute_input": "2023-06-01T16:52:25.621190Z",
          "iopub.status.idle": "2023-06-01T16:52:25.690821Z",
          "shell.execute_reply.started": "2023-06-01T16:52:25.621161Z",
          "shell.execute_reply": "2023-06-01T16:52:25.689403Z"
        },
        "trusted": true
      },
      "execution_count": 23,
      "outputs": [
        {
          "output_type": "execute_result",
          "data": {
            "text/plain": [
              "<IPython.core.display.HTML object>"
            ],
            "text/html": [
              "<img src=\"data:image/gif;base64,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\"/>"
            ]
          },
          "metadata": {},
          "execution_count": 23
        }
      ]
    },
    {
      "cell_type": "code",
      "source": [
        "trained_gen.save('my_conditional_gan_model')"
      ],
      "metadata": {
        "id": "h25_3D0CdJit",
        "colab": {
          "base_uri": "https://localhost:8080/"
        },
        "outputId": "090ea1aa-9973-4124-e7e8-d4b598b60f23"
      },
      "execution_count": 12,
      "outputs": [
        {
          "output_type": "stream",
          "name": "stderr",
          "text": [
            "WARNING:tensorflow:Compiled the loaded model, but the compiled metrics have yet to be built. `model.compile_metrics` will be empty until you train or evaluate the model.\n",
            "WARNING:absl:Found untraced functions such as _jit_compiled_convolution_op, _jit_compiled_convolution_op, _jit_compiled_convolution_op while saving (showing 3 of 3). These functions will not be directly callable after loading.\n"
          ]
        }
      ]
    },
    {
      "cell_type": "code",
      "source": [],
      "metadata": {
        "id": "-Us1nmGpdJlL"
      },
      "execution_count": 12,
      "outputs": []
    }
  ]
}